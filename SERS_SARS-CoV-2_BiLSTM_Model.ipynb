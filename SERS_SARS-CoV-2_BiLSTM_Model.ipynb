{
 "cells": [
  {
   "cell_type": "code",
   "execution_count": 1,
   "id": "3aa4af95",
   "metadata": {},
   "outputs": [],
   "source": [
    "# Importing modules\n",
    "import pandas as pd\n",
    "import numpy as np\n",
    "from scripts.preprocessing import preprocess\n",
    "from sklearn.model_selection import train_test_split\n",
    "from sklearn.preprocessing import StandardScaler\n",
    "from imblearn.over_sampling import SMOTE\n",
    "from sklearn.preprocessing import LabelEncoder\n",
    "import matplotlib.pyplot as plt\n",
    "import torch\n",
    "import torch.nn as nn\n",
    "import torch.optim as optim\n",
    "from torch.utils.data import DataLoader, TensorDataset\n",
    "from sklearn.metrics import classification_report, confusion_matrix, ConfusionMatrixDisplay\n",
    "import warnings\n",
    "warnings.filterwarnings(\"ignore\")\n",
    "import joblib"
   ]
  },
  {
   "cell_type": "code",
   "execution_count": 2,
   "id": "6e688017",
   "metadata": {},
   "outputs": [],
   "source": [
    "# Data for training and validation\n",
    "train_data = preprocess(\"data/train_set\").spectra2df()\n",
    "\n",
    "# Data for testing (Blind)\n",
    "test_data = preprocess(\"data/test_set\").spectra2df()"
   ]
  },
  {
   "cell_type": "code",
   "execution_count": 3,
   "id": "091583f4",
   "metadata": {},
   "outputs": [
    {
     "data": {
      "image/png": "[encoded data removed]",
      "text/plain": [
       "<Figure size 432x288 with 1 Axes>"
      ]
     },
     "metadata": {
      "needs_background": "light"
     },
     "output_type": "display_data"
    }
   ],
   "source": [
    "# Class distribution (Training and validation set)\n",
    "train_data[\"Class\"].value_counts().plot.bar()\n",
    "plt.show()"
   ]
  },
  {
   "cell_type": "code",
   "execution_count": 4,
   "id": "c904fdad",
   "metadata": {},
   "outputs": [
    {
     "data": {
      "image/png": "[encoded data removed]",
      "text/plain": [
       "<Figure size 432x288 with 1 Axes>"
      ]
     },
     "metadata": {
      "needs_background": "light"
     },
     "output_type": "display_data"
    }
   ],
   "source": [
    "# Class distribution (Test/Blind set)\n",
    "test_data[\"Class\"].value_counts().plot.bar()\n",
    "plt.show()"
   ]
  },
  {
   "cell_type": "code",
   "execution_count": 5,
   "id": "2de7b0bf",
   "metadata": {},
   "outputs": [],
   "source": [
    "# Target labels\n",
    "y = train_data[\"Class\"]\n",
    "\n",
    "# Feature matrix\n",
    "X = train_data.drop([\"Class\", \"Sample\"], axis=1) \n",
    "\n",
    "# Training and validation split (80:20)\n",
    "X_train, X_val, y_train, y_val = train_test_split(X, y, test_size=0.2, random_state=42, stratify=y)\n",
    "\n",
    "# Oversampling training set\n",
    "oversampler = SMOTE(random_state=42)\n",
    "X_train_os, y_train_os = oversampler.fit_resample(X_train, y_train)\n",
    "\n",
    "# Scaling training and validation set\n",
    "sds = joblib.load(\"models/scaler.pkl\") # Loading scaler params\n",
    "scaled_X_train = sds.transform(X_train_os)\n",
    "scaled_X_val = sds.transform(X_val)\n",
    "\n",
    "# Reshaping\n",
    "scaled_X_train = scaled_X_train.reshape(scaled_X_train.shape[0], 1, scaled_X_train.shape[1])\n",
    "scaled_X_val = scaled_X_val.reshape(scaled_X_val.shape[0], 1, scaled_X_val.shape[1])\n",
    "\n",
    "# Label encoding\n",
    "label_encoder = LabelEncoder()\n",
    "y_train_os = label_encoder.fit_transform(y_train_os)\n",
    "y_val = label_encoder.transform(y_val)\n",
    "\n",
    "# Tensor\n",
    "X_train_tensor = torch.tensor(scaled_X_train, dtype=torch.float32)\n",
    "y_train_tensor = torch.tensor(y_train_os, dtype=torch.long)\n",
    "X_val_tensor = torch.tensor(scaled_X_val, dtype=torch.float32)\n",
    "y_val_tensor = torch.tensor(y_val, dtype=torch.long)\n",
    "\n",
    "# Dataloader\n",
    "batch_size = 16\n",
    "train_loader = DataLoader(TensorDataset(X_train_tensor, y_train_tensor), batch_size=batch_size, shuffle=True)\n",
    "val_loader = DataLoader(TensorDataset(X_val_tensor, y_val_tensor), batch_size=batch_size, shuffle=False)"
   ]
  },
  {
   "cell_type": "code",
   "execution_count": 6,
   "id": "24f25cf8",
   "metadata": {},
   "outputs": [
    {
     "name": "stdout",
     "output_type": "stream",
     "text": [
      "BiLSTMClassifier(\n",
      "  (lstm): LSTM(1400, 256, num_layers=3, batch_first=True, dropout=0.3, bidirectional=True)\n",
      "  (attention): Attention(\n",
      "    (attn_weights): Linear(in_features=512, out_features=1, bias=True)\n",
      "  )\n",
      "  (layer_norm): LayerNorm((512,), eps=1e-05, elementwise_affine=True)\n",
      "  (dropout): Dropout(p=0.3, inplace=False)\n",
      "  (fc): Linear(in_features=512, out_features=4, bias=True)\n",
      ")\n"
     ]
    }
   ],
   "source": [
    "# Attention\n",
    "class Attention(nn.Module):\n",
    "    def __init__(self, hidden_size):\n",
    "        super(Attention, self).__init__()\n",
    "        self.attn_weights = nn.Linear(hidden_size, 1)\n",
    "\n",
    "    def forward(self, lstm_output):\n",
    "        attn_scores = self.attn_weights(lstm_output).squeeze(-1)\n",
    "        attn_weights = torch.softmax(attn_scores, dim=1)\n",
    "        context = torch.sum(lstm_output * attn_weights.unsqueeze(-1), dim=1)\n",
    "        return context\n",
    "\n",
    "# BiLSTM Model\n",
    "class BiLSTMClassifier(nn.Module):\n",
    "    def __init__(self, input_size, hidden_size, num_layers, num_classes, dropout_prob=0.3):\n",
    "        super(BiLSTMClassifier, self).__init__()\n",
    "        self.lstm = nn.LSTM(input_size, hidden_size, num_layers, batch_first=True, \n",
    "                            dropout=dropout_prob, bidirectional=True)\n",
    "        self.attention = Attention(hidden_size * 2)\n",
    "        self.layer_norm = nn.LayerNorm(hidden_size * 2)\n",
    "        self.dropout = nn.Dropout(dropout_prob)\n",
    "        self.fc = nn.Linear(hidden_size * 2, num_classes)\n",
    "\n",
    "    def forward(self, x):\n",
    "        out, _ = self.lstm(x)\n",
    "        out = self.attention(out)\n",
    "        out = self.layer_norm(out)\n",
    "        out = self.dropout(out)\n",
    "        out = self.fc(out)\n",
    "        return out\n",
    "\n",
    "# Model (BiLSTM Model with attention mechanism)\n",
    "model = BiLSTMClassifier(1400, 256, 3, len(label_encoder.classes_))\n",
    "print(model)\n",
    "\n",
    "# Loss function\n",
    "criterion = nn.CrossEntropyLoss()\n",
    "\n",
    "# Optimizer\n",
    "optimizer = optim.AdamW(model.parameters(), lr=1e-4, weight_decay=1e-4)\n",
    "\n",
    "# Learning rate scheduler\n",
    "scheduler = optim.lr_scheduler.ReduceLROnPlateau(optimizer, mode='min', factor=0.5, patience=5)"
   ]
  },
  {
   "cell_type": "code",
   "execution_count": 7,
   "id": "e588a850",
   "metadata": {},
   "outputs": [],
   "source": [
    "# Model training\n",
    "device = torch.device(\"cuda\" if torch.cuda.is_available() else \"cpu\")\n",
    "model.to(device)\n",
    "train_loss = []\n",
    "train_accuracy = []\n",
    "n_epoch = 25\n",
    "for epoch in range(n_epoch):\n",
    "    model.train()\n",
    "    total_loss = 0\n",
    "    correct, total = 0, 0\n",
    "    num_batches = len(train_loader)\n",
    "    for X_batch, y_batch in train_loader:\n",
    "        X_batch, y_batch = X_batch.to(device), y_batch.to(device)\n",
    "        optimizer.zero_grad()\n",
    "        outputs = model(X_batch)\n",
    "        loss = criterion(outputs, y_batch)\n",
    "        loss.backward()\n",
    "        optimizer.step()\n",
    "        total_loss += loss.item()\n",
    "        _, predicted = torch.max(outputs, 1)\n",
    "        correct += (predicted == y_batch).sum().item()\n",
    "        total += y_batch.size(0)\n",
    "    train_acc = correct / total\n",
    "    avg_loss = total_loss / num_batches\n",
    "    train_loss.append(avg_loss)\n",
    "    train_accuracy.append(train_acc)"
   ]
  },
  {
   "cell_type": "code",
   "execution_count": 8,
   "id": "fd9567a8",
   "metadata": {},
   "outputs": [
    {
     "data": {
      "image/png": "[encoded data removed]",
      "text/plain": [
       "<Figure size 432x288 with 1 Axes>"
      ]
     },
     "metadata": {
      "needs_background": "light"
     },
     "output_type": "display_data"
    }
   ],
   "source": [
    "# Accuracy loss curve\n",
    "plt.plot(np.arange(1, n_epoch+1, 1) , train_loss, c=\"blue\", label=\"Loss\")\n",
    "plt.plot(np.arange(1, n_epoch+1, 1) , train_accuracy, c=\"orange\", label=\"Accuracy\")\n",
    "plt.legend()\n",
    "plt.show()"
   ]
  },
  {
   "cell_type": "code",
   "execution_count": 9,
   "id": "b714f40b",
   "metadata": {},
   "outputs": [],
   "source": [
    "# Model validation\n",
    "model.eval()\n",
    "y_val, y_pred_val = [], []\n",
    "with torch.no_grad():\n",
    "    for X_batch, y_batch in val_loader:\n",
    "        X_batch, y_batch = X_batch.to(device), y_batch.to(device)\n",
    "        outputs = model(X_batch)\n",
    "        _, predicted = torch.max(outputs, 1)\n",
    "        y_val.extend(y_batch.cpu().numpy())\n",
    "        y_pred_val.extend(predicted.cpu().numpy())"
   ]
  },
  {
   "cell_type": "code",
   "execution_count": 10,
   "id": "2c04f411",
   "metadata": {},
   "outputs": [
    {
     "name": "stdout",
     "output_type": "stream",
     "text": [
      "              precision    recall  f1-score   support\n",
      "\n",
      "       Delta       0.88      0.88      0.88        17\n",
      "       Kappa       0.72      0.76      0.74        17\n",
      "     Omicron       0.92      0.85      0.89        55\n",
      "    Wildtype       0.81      0.94      0.87        18\n",
      "\n",
      "    accuracy                           0.86       107\n",
      "   macro avg       0.83      0.86      0.85       107\n",
      "weighted avg       0.86      0.86      0.86       107\n",
      "\n"
     ]
    }
   ],
   "source": [
    "# Classification report (Validation set)\n",
    "print(classification_report(label_encoder.inverse_transform(y_val), label_encoder.inverse_transform(y_pred_val)))"
   ]
  },
  {
   "cell_type": "code",
   "execution_count": 11,
   "id": "26b5cb45",
   "metadata": {},
   "outputs": [
    {
     "data": {
      "image/png": "[encoded data removed]",
      "text/plain": [
       "<Figure size 432x288 with 2 Axes>"
      ]
     },
     "metadata": {
      "needs_background": "light"
     },
     "output_type": "display_data"
    }
   ],
   "source": [
    "# Confusion matrix (Validation set)\n",
    "cmat = confusion_matrix(label_encoder.inverse_transform(y_val), label_encoder.inverse_transform(y_pred_val), \n",
    "                        labels=label_encoder.classes_, normalize=\"true\")\n",
    "disp_cmat = ConfusionMatrixDisplay(confusion_matrix=cmat, display_labels=label_encoder.classes_)\n",
    "disp_cmat.plot()\n",
    "plt.show()"
   ]
  },
  {
   "cell_type": "code",
   "execution_count": 12,
   "id": "e38e2f3a",
   "metadata": {},
   "outputs": [],
   "source": [
    "# Saving the model \n",
    "torch.save(model, \"models/BiLSTM_model.pth\")"
   ]
  },
  {
   "cell_type": "code",
   "execution_count": 13,
   "id": "3e628651",
   "metadata": {},
   "outputs": [],
   "source": [
    "# Target labels (Test set)\n",
    "y_test = test_data[\"Class\"]\n",
    "y_test = label_encoder.transform(y_test)\n",
    "\n",
    "# Feature matrix (Test set)\n",
    "X_test = test_data.drop([\"Class\", \"Sample\"], axis=1)\n",
    "\n",
    "# Scaling Test set\n",
    "scaled_X_test = sds.transform(X_test)\n",
    "\n",
    "# Reshaping\n",
    "scaled_X_test = scaled_X_test.reshape(scaled_X_test.shape[0], 1, scaled_X_test.shape[1])\n",
    "\n",
    "# Tensor\n",
    "X_test_tensor = torch.tensor(scaled_X_test, dtype=torch.float32)\n",
    "y_test_tensor = torch.tensor(y_test, dtype=torch.long)\n",
    "\n",
    "# Dataloader\n",
    "batch_size = 16\n",
    "test_loader = DataLoader(TensorDataset(X_test_tensor, y_test_tensor), batch_size=batch_size, shuffle=False)"
   ]
  },
  {
   "cell_type": "code",
   "execution_count": 14,
   "id": "ce0bc753",
   "metadata": {},
   "outputs": [],
   "source": [
    "# Loading BiLSTM model\n",
    "model = torch.load(\"models/BiLSTM_model.pth\") \n",
    "\n",
    "# Model testing\n",
    "model.eval()\n",
    "y_test, y_pred_test = [], []\n",
    "with torch.no_grad():\n",
    "    for X_batch, y_batch in test_loader:\n",
    "        X_batch, y_batch = X_batch.to(device), y_batch.to(device)\n",
    "        outputs = model(X_batch)\n",
    "        _, predicted = torch.max(outputs, 1)\n",
    "        y_test.extend(y_batch.cpu().numpy())\n",
    "        y_pred_test.extend(predicted.cpu().numpy())"
   ]
  },
  {
   "cell_type": "code",
   "execution_count": 15,
   "id": "e2a3db04",
   "metadata": {},
   "outputs": [
    {
     "name": "stdout",
     "output_type": "stream",
     "text": [
      "              precision    recall  f1-score   support\n",
      "\n",
      "       Delta       0.00      0.00      0.00         0\n",
      "       Kappa       0.53      0.50      0.52        34\n",
      "     Omicron       0.89      0.79      0.84        73\n",
      "    Wildtype       0.00      0.00      0.00         0\n",
      "\n",
      "    accuracy                           0.70       107\n",
      "   macro avg       0.36      0.32      0.34       107\n",
      "weighted avg       0.78      0.70      0.74       107\n",
      "\n"
     ]
    }
   ],
   "source": [
    "# Classification report (Test set)\n",
    "print(classification_report(label_encoder.inverse_transform(y_test), label_encoder.inverse_transform(y_pred_test)))"
   ]
  },
  {
   "cell_type": "code",
   "execution_count": 16,
   "id": "8326b058",
   "metadata": {},
   "outputs": [
    {
     "data": {
      "image/png": "[encoded data removed]",
      "text/plain": [
       "<Figure size 432x288 with 2 Axes>"
      ]
     },
     "metadata": {
      "needs_background": "light"
     },
     "output_type": "display_data"
    }
   ],
   "source": [
    "# Confusion matrix (Test set)\n",
    "cmat = confusion_matrix(label_encoder.inverse_transform(y_test), label_encoder.inverse_transform(y_pred_test), \n",
    "                        labels=label_encoder.classes_, normalize=\"true\")\n",
    "disp_cmat = ConfusionMatrixDisplay(confusion_matrix=cmat, display_labels=label_encoder.classes_)\n",
    "disp_cmat.plot()\n",
    "plt.show()"
   ]
  }
 ],
 "metadata": {
  "kernelspec": {
   "display_name": "Python 3 (ipykernel)",
   "language": "python",
   "name": "python3"
  },
  "language_info": {
   "codemirror_mode": {
    "name": "ipython",
    "version": 3
   },
   "file_extension": ".py",
   "mimetype": "text/x-python",
   "name": "python",
   "nbconvert_exporter": "python",
   "pygments_lexer": "ipython3",
   "version": "3.11.0"
  }
 },
 "nbformat": 4,
 "nbformat_minor": 5
}
