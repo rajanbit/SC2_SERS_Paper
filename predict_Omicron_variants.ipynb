{
 "cells": [
  {
   "cell_type": "markdown",
   "id": "39296f00",
   "metadata": {},
   "source": [
    "# Predicting Omicron Variants - SVM Model"
   ]
  },
  {
   "cell_type": "code",
   "execution_count": 1,
   "id": "1b77315b",
   "metadata": {},
   "outputs": [],
   "source": [
    "# Importing modules\n",
    "import pandas as pd\n",
    "import numpy as np\n",
    "from src.scripts.preprocessing_omicron import preprocess\n",
    "from sklearn.preprocessing import StandardScaler\n",
    "from sklearn.svm import SVC\n",
    "import joblib"
   ]
  },
  {
   "cell_type": "code",
   "execution_count": 2,
   "id": "856d036a",
   "metadata": {},
   "outputs": [],
   "source": [
    "# Data\n",
    "predict_data = preprocess(\"data/test_set\").spectra2df()"
   ]
  },
  {
   "cell_type": "code",
   "execution_count": 3,
   "id": "086aef2d",
   "metadata": {},
   "outputs": [],
   "source": [
    "# Feature matrix\n",
    "X_predict = predict_data.drop([\"Class\", \"Sample\"], axis=1)\n",
    "\n",
    "y = predict_data[\"Class\"]\n",
    "\n",
    "# Scaling Feature matrix\n",
    "sds = joblib.load(\"models/scaler_omicron1.pkl\") # Loading scaler params\n",
    "scaled_X_predict = pd.DataFrame(sds.transform(X_predict), columns=X_predict.columns)\n",
    "\n",
    "# Loading SVM model\n",
    "model = joblib.load(\"models/SVM_omicron_model1.pkl\")\n",
    "\n",
    "# Model Testing (Evaluation on blind data)\n",
    "y_pred = model.predict(scaled_X_predict.to_numpy())"
   ]
  },
  {
   "cell_type": "code",
   "execution_count": 4,
   "id": "42086f80",
   "metadata": {},
   "outputs": [
    {
     "name": "stdout",
     "output_type": "stream",
     "text": [
      "Predicted Omicron Variants: ['XBB']\n"
     ]
    }
   ],
   "source": [
    "print(f'Predicted Omicron Variants: {y_pred}')"
   ]
  }
 ],
 "metadata": {
  "kernelspec": {
   "display_name": "Python 3 (ipykernel)",
   "language": "python",
   "name": "python3"
  },
  "language_info": {
   "codemirror_mode": {
    "name": "ipython",
    "version": 3
   },
   "file_extension": ".py",
   "mimetype": "text/x-python",
   "name": "python",
   "nbconvert_exporter": "python",
   "pygments_lexer": "ipython3",
   "version": "3.11.0"
  }
 },
 "nbformat": 4,
 "nbformat_minor": 5
}
