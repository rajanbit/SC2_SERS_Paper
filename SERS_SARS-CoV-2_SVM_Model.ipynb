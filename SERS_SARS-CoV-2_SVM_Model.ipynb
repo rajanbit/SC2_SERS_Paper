{
 "cells": [
  {
   "cell_type": "code",
   "execution_count": 1,
   "id": "3aa4af95",
   "metadata": {},
   "outputs": [],
   "source": [
    "# Importing modules\n",
    "import pandas as pd\n",
    "from scripts.preprocessing import preprocess\n",
    "from sklearn.model_selection import train_test_split, GridSearchCV\n",
    "from sklearn.preprocessing import StandardScaler\n",
    "from imblearn.over_sampling import SMOTE\n",
    "from sklearn.svm import SVC\n",
    "from sklearn.metrics import classification_report, confusion_matrix, ConfusionMatrixDisplay\n",
    "import matplotlib.pyplot as plt\n",
    "import warnings\n",
    "warnings.filterwarnings(\"ignore\")\n",
    "import joblib"
   ]
  },
  {
   "cell_type": "code",
   "execution_count": 2,
   "id": "6e688017",
   "metadata": {},
   "outputs": [],
   "source": [
    "# Data for training and validation\n",
    "train_data = preprocess(\"data/train_set\").spectra2df()\n",
    "\n",
    "# Data for testing (Blind)\n",
    "test_data = preprocess(\"data/test_set\").spectra2df()"
   ]
  },
  {
   "cell_type": "code",
   "execution_count": 3,
   "id": "091583f4",
   "metadata": {},
   "outputs": [
    {
     "data": {
      "image/png": "[encoded data removed]",
      "text/plain": [
       "<Figure size 432x288 with 1 Axes>"
      ]
     },
     "metadata": {
      "needs_background": "light"
     },
     "output_type": "display_data"
    }
   ],
   "source": [
    "# Class distribution (Training and validation set)\n",
    "train_data[\"Class\"].value_counts().plot.bar()\n",
    "plt.show()"
   ]
  },
  {
   "cell_type": "code",
   "execution_count": 4,
   "id": "c904fdad",
   "metadata": {},
   "outputs": [
    {
     "data": {
      "image/png": "[encoded data removed]",
      "text/plain": [
       "<Figure size 432x288 with 1 Axes>"
      ]
     },
     "metadata": {
      "needs_background": "light"
     },
     "output_type": "display_data"
    }
   ],
   "source": [
    "# Class distribution (Test/Blind set)\n",
    "test_data[\"Class\"].value_counts().plot.bar()\n",
    "plt.show()"
   ]
  },
  {
   "cell_type": "code",
   "execution_count": 5,
   "id": "2de7b0bf",
   "metadata": {},
   "outputs": [
    {
     "data": {
      "text/plain": [
       "['models/scaler.pkl']"
      ]
     },
     "execution_count": 5,
     "metadata": {},
     "output_type": "execute_result"
    }
   ],
   "source": [
    "# Target labels\n",
    "y = train_data[\"Class\"]\n",
    "\n",
    "# Feature matrix\n",
    "X = train_data.drop([\"Class\", \"Sample\"], axis=1) \n",
    "\n",
    "# Training and validation split (80:20)\n",
    "X_train, X_val, y_train, y_val = train_test_split(X, y, test_size=0.2, random_state=42, stratify=y)\n",
    "\n",
    "# Oversampling training set\n",
    "oversampler = SMOTE(random_state=42)\n",
    "X_train_os, y_train_os = oversampler.fit_resample(X_train, y_train)\n",
    "\n",
    "# Scaling training and validation set\n",
    "sds = StandardScaler()\n",
    "scaled_X_train = pd.DataFrame(sds.fit_transform(X_train_os), columns=X_train_os.columns)\n",
    "scaled_X_val = pd.DataFrame(sds.transform(X_val), columns=X_val.columns)\n",
    "joblib.dump(sds, \"models/scaler.pkl\") # Saving scaler params"
   ]
  },
  {
   "cell_type": "code",
   "execution_count": 6,
   "id": "24f25cf8",
   "metadata": {},
   "outputs": [],
   "source": [
    "# Model \n",
    "classifier = SVC(random_state=42, probability=True)\n",
    "\n",
    "# Best parameters found after hyperparameter tuning \n",
    "params = {\"C\": [10], \"kernel\": [\"rbf\"], \"gamma\": [\"scale\"]}\n",
    "\n",
    "# Model training with 5 fold cv \n",
    "grid_search = GridSearchCV(classifier, param_grid=params, cv=5, scoring='accuracy')\n",
    "grid_search.fit(scaled_X_train.to_numpy(), y_train_os)\n",
    "\n",
    "# Final model\n",
    "model = grid_search.best_estimator_"
   ]
  },
  {
   "cell_type": "code",
   "execution_count": 7,
   "id": "e588a850",
   "metadata": {
    "scrolled": true
   },
   "outputs": [],
   "source": [
    "# Model Validation\n",
    "y_pred_val = model.predict(scaled_X_val.to_numpy())"
   ]
  },
  {
   "cell_type": "code",
   "execution_count": 8,
   "id": "fd9567a8",
   "metadata": {},
   "outputs": [
    {
     "name": "stdout",
     "output_type": "stream",
     "text": [
      "              precision    recall  f1-score   support\n",
      "\n",
      "       Delta       0.78      0.82      0.80        17\n",
      "       Kappa       0.78      0.82      0.80        17\n",
      "     Omicron       0.94      0.91      0.93        55\n",
      "    Wildtype       0.94      0.94      0.94        18\n",
      "\n",
      "    accuracy                           0.89       107\n",
      "   macro avg       0.86      0.88      0.87       107\n",
      "weighted avg       0.89      0.89      0.89       107\n",
      "\n"
     ]
    }
   ],
   "source": [
    "# Classification report (Validation set)\n",
    "print(classification_report(y_val, y_pred_val))"
   ]
  },
  {
   "cell_type": "code",
   "execution_count": 9,
   "id": "b714f40b",
   "metadata": {},
   "outputs": [
    {
     "data": {
      "image/png": "[encoded data removed]",
      "text/plain": [
       "<Figure size 432x288 with 2 Axes>"
      ]
     },
     "metadata": {
      "needs_background": "light"
     },
     "output_type": "display_data"
    }
   ],
   "source": [
    "# Confusion matrix (Validation set)\n",
    "cmat = confusion_matrix(y_val, y_pred_val, normalize=\"true\")\n",
    "disp_cmat = ConfusionMatrixDisplay(confusion_matrix=cmat, display_labels=model.classes_)\n",
    "disp_cmat.plot()\n",
    "plt.show()"
   ]
  },
  {
   "cell_type": "code",
   "execution_count": 10,
   "id": "5f221980",
   "metadata": {},
   "outputs": [
    {
     "data": {
      "text/plain": [
       "['models/SVM_model.pkl']"
      ]
     },
     "execution_count": 10,
     "metadata": {},
     "output_type": "execute_result"
    }
   ],
   "source": [
    "# Saving final SVM model\n",
    "joblib.dump(model, \"models/SVM_model.pkl\")"
   ]
  },
  {
   "cell_type": "code",
   "execution_count": 11,
   "id": "26b5cb45",
   "metadata": {},
   "outputs": [],
   "source": [
    "# Target labels\n",
    "y_test = test_data[\"Class\"]\n",
    "\n",
    "# Feature matrix\n",
    "X_test = test_data.drop([\"Class\", \"Sample\"], axis=1)\n",
    "\n",
    "# Scaling test set\n",
    "sds = joblib.load(\"models/scaler.pkl\") # Loading scaler params\n",
    "scaled_X_test = pd.DataFrame(sds.transform(X_test), columns=X_test.columns)"
   ]
  },
  {
   "cell_type": "code",
   "execution_count": 12,
   "id": "3e628651",
   "metadata": {},
   "outputs": [],
   "source": [
    "# Loading SVM model\n",
    "model = joblib.load(\"models/SVM_model.pkl\")\n",
    "\n",
    "# Model Testing (Evaluation on blind data)\n",
    "y_pred_test = model.predict(scaled_X_test.to_numpy())"
   ]
  },
  {
   "cell_type": "code",
   "execution_count": 13,
   "id": "ce0bc753",
   "metadata": {},
   "outputs": [
    {
     "name": "stdout",
     "output_type": "stream",
     "text": [
      "              precision    recall  f1-score   support\n",
      "\n",
      "       Delta       0.00      0.00      0.00         0\n",
      "       Kappa       0.61      0.59      0.60        34\n",
      "     Omicron       0.92      0.82      0.87        73\n",
      "    Wildtype       0.00      0.00      0.00         0\n",
      "\n",
      "    accuracy                           0.75       107\n",
      "   macro avg       0.38      0.35      0.37       107\n",
      "weighted avg       0.82      0.75      0.78       107\n",
      "\n"
     ]
    }
   ],
   "source": [
    "# Classification report (Test set)\n",
    "print(classification_report(y_test, y_pred_test))"
   ]
  },
  {
   "cell_type": "code",
   "execution_count": 14,
   "id": "e2a3db04",
   "metadata": {},
   "outputs": [
    {
     "data": {
      "image/png": "[encoded data removed]",
      "text/plain": [
       "<Figure size 432x288 with 2 Axes>"
      ]
     },
     "metadata": {
      "needs_background": "light"
     },
     "output_type": "display_data"
    }
   ],
   "source": [
    "# Confusion matrix (Test set)\n",
    "cmat = confusion_matrix(y_test, y_pred_test, normalize=\"true\")\n",
    "disp_cmat = ConfusionMatrixDisplay(confusion_matrix=cmat, display_labels=model.classes_)\n",
    "disp_cmat.plot()\n",
    "plt.show()"
   ]
  }
 ],
 "metadata": {
  "kernelspec": {
   "display_name": "Python 3 (ipykernel)",
   "language": "python",
   "name": "python3"
  },
  "language_info": {
   "codemirror_mode": {
    "name": "ipython",
    "version": 3
   },
   "file_extension": ".py",
   "mimetype": "text/x-python",
   "name": "python",
   "nbconvert_exporter": "python",
   "pygments_lexer": "ipython3",
   "version": "3.11.0"
  }
 },
 "nbformat": 4,
 "nbformat_minor": 5
}
